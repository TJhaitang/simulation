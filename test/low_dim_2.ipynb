{
 "cells": [
  {
   "cell_type": "markdown",
   "metadata": {},
   "source": [
    "### 导包，设定超参数"
   ]
  },
  {
   "cell_type": "code",
   "execution_count": 4,
   "metadata": {},
   "outputs": [],
   "source": [
    "# from methods.our_method import Our_method\n",
    "# from methods.trans_lasso import Trans_lasso\n",
    "# from methods.t_lasso import T_lasso\n",
    "# from methods.least_square import Least_square\n",
    "\n",
    "\n",
    "# from evaluator.evaluator import *\n",
    "# # from evaluator.sample_generator import *\n",
    "# from tqdm import tqdm\n",
    "# from matplotlib import pyplot as plt\n",
    "# import time\n",
    "# import numpy as np"
   ]
  },
  {
   "cell_type": "code",
   "execution_count": 1,
   "metadata": {},
   "outputs": [],
   "source": [
    "n_features=16\n",
    "n_samples=100\n",
    "n_packs=101\n",
    "s=16"
   ]
  },
  {
   "cell_type": "code",
   "execution_count": 5,
   "metadata": {},
   "outputs": [],
   "source": [
    "from methods.estiminator import estiminator\n",
    "import numpy as np\n",
    "from sklearn.linear_model import Lasso\n",
    "import time\n",
    "from tqdm import tqdm\n",
    "\n",
    "class Our_method(estiminator):\n",
    "    def __init__(self, n_features=0,s=0,L=0,instance=None):\n",
    "        if instance is not None:\n",
    "            super(Our_method, self).__init__(instance.n_features,instance.s,instance.L)\n",
    "        else:\n",
    "            assert n_features>0 and s>0 and L>0\n",
    "            super(Our_method, self).__init__(n_features,s,L)\n",
    "      \n",
    "    #这个方法没有用到，目的是方便使用梯度下降等方法，将更新方法放到模型里面去  \n",
    "    def likelihood(self, beta, delta, samples_pack):\n",
    "        beta=beta+delta\n",
    "        X=samples_pack.getX()\n",
    "        y=samples_pack.getY()\n",
    "        # 似然函数为高斯分布\n",
    "        return -np.sum((y-np.dot(X,beta))**2)\n",
    "    \n",
    "    #更新beta\n",
    "    #输入：delta:辅助模型与目标模型的回归系数差矩阵，v:辅助模型是否被选择的向量，samples_packs:样本数据\n",
    "    # 优化问题：argmax_{beta} l_0(beta)+sum_{k=1}^{K}(l_k(beta,delta[k])-lambda*||delta||_2)*v[k]\n",
    "    def update_beta(self, delta, v, samples_packs):\n",
    "        # 对于线性模型，该问题有显式解\n",
    "        # 该显式解为beta=(x0^T*x0+sum_{k=1}^{K}v[k]*xk^T*xk-lambda*E)^{-1}*(x0^T*y0+sum_{k=1}^{K}v[k]*xk^T*yk-sum_{k=1}^{K}v[k]*xk^T*xk*delta[k])\n",
    "        # x0,y0为目标模型的样本数据\n",
    "        # xk,yk为第k个辅助模型的样本数据\n",
    "        \n",
    "        #mat1=x0^T*x0+sum_{k=1}^{K}v[k]*xk^T*xk-lambda*E\n",
    "        lamb=0.001\n",
    "        mat1=np.dot(samples_packs[0].getX().T,samples_packs[0].getX())\n",
    "        # mat1-=lamb*np.eye(len(samples_packs[0].getX()[0]))\n",
    "        for i in range(len(samples_packs)-1):\n",
    "            if v[i]==1:\n",
    "                mat1+=np.dot(samples_packs[i+1].getX().T,samples_packs[i+1].getX())\n",
    "        #mat2=x0^T*y0+sum_{k=1}^{K}v[k]*xk^T*yk\n",
    "        mat2=np.dot(samples_packs[0].getX().T,samples_packs[0].getY())\n",
    "        for i in range(len(samples_packs)-1):\n",
    "            if v[i]==1:\n",
    "                mat2+=np.dot(samples_packs[i+1].getX().T,samples_packs[i+1].getY())\n",
    "        #mat3=sum_{k=1}^{K}v[k]*xk^T*xk*delta[k]\n",
    "        mat3=np.zeros(len(samples_packs[0].getX()[0]))\n",
    "        for i in range(len(samples_packs)-1):\n",
    "            if v[i]==1:\n",
    "                mat3+=np.dot(samples_packs[i+1].getX().T,np.dot(samples_packs[i+1].getX(),delta[i]))\n",
    "        beta=np.dot(np.linalg.inv(mat1),mat2-mat3)\n",
    "        return beta\n",
    "    \n",
    "    #更新delta\n",
    "    #输入：beta:当前beta，sample_pack:该模型的样本数据\n",
    "    #输出：更新后的delta_k\n",
    "    def update_delta_k(self,beta,sample_pack):  \n",
    "        # 该优化问题为: argmin_{delta_k} ||y_k-x_k*beta-x_k*delta_k||_2^2+lambda*||delta_k||_2\n",
    "        # 该问题好像没有显式解，但函数是凸函数，可以使用梯度下降法求解\n",
    "        # 目标函数在0处不可导\n",
    "        # -?先比较lambda与||X.T*y||_2的大小，如果lambda大，则delta_k=0\n",
    "        # -?使用IHT迭代算法求解\n",
    "        lamb=0.1#-?\n",
    "        X=sample_pack.getX()\n",
    "        y=sample_pack.getY()\n",
    "        y=y-np.dot(X,beta)#优化delta\n",
    "        if lamb>=np.linalg.norm(np.dot(X.T,y)):\n",
    "            return np.zeros(len(X[0]))\n",
    "        else:\n",
    "            #使用IHT方法迭代求解\n",
    "            #先测试一下\n",
    "            #L是X的最大奇异值\n",
    "            U,sigma,VT=np.linalg.svd(X)\n",
    "            Lipschitz=sigma[0]*sigma[0]\n",
    "            # print(Lipschitz)\n",
    "            max_iter=100\n",
    "            #岭回归结果作为初值\n",
    "            delta=np.dot(np.linalg.inv(np.dot(X.T,X)+lamb*np.eye(len(X[0]))),np.dot(X.T,y))\n",
    "            delta2=delta+0\n",
    "            for i in range(max_iter):\n",
    "                #计算梯度\n",
    "                grad=np.dot(X.T,np.dot(X,delta)-y)\n",
    "                b=delta-1/Lipschitz*grad\n",
    "                # assert 2*lamb/Lipschitz<np.linalg.norm(b)#初始条件保证不可能进这里\n",
    "                delta=(1-lamb/(Lipschitz*np.linalg.norm(b)))*b\n",
    "                if np.linalg.norm(delta-delta2)<0.0001:\n",
    "                    break\n",
    "                delta2=delta\n",
    "            return delta\n",
    "        \n",
    "    \n",
    "    # 非iid分布式迁移学习与数据源选择\n",
    "    # delta[k]=beta[k]-beta[0] 为第k个辅助模型与目标模型的回归系数差\n",
    "    # 上述参数均为n_features维向量\n",
    "    # v[k]属于{0,1},为第k个辅助模型是否被选择\n",
    "    # 优化问题：argmax_{beta,delta[k],v[k]} l_0(beta)+sum_{k=1}^{K}(l_k(beta,delta[k])-lambda*||delta||_2)*v[k]\n",
    "    # s.t. ||v||_0=L\n",
    "    # l_k为模型的似然函数，当前模型为线性模型，似然函数为高斯分布\n",
    "    # 使用两步迭代算法求解\n",
    "    # 第一步：固定v[k]，求解beta[0],delta[k]\n",
    "    # 求解beta与delta时也使用两步迭代算法\n",
    "    # 第二步：固定beta[0],delta[k]，求解v[k]\n",
    "    # 重复以上两步直到收敛（或达到最大迭代次数）\n",
    "    # -?没有设置收敛条件，目前仅仅设置了最大迭代次数\n",
    "    # 输入：samples_packs:样本数据，s:目标模型稀疏度，L:选定的辅助模型个数\n",
    "    def fit(self, samples_packs,s=0,L=0):\n",
    "        #如果model_num==0,则直接使用目标模型的样本数据进行lasso估计\n",
    "        if s==0:\n",
    "            s=self.s\n",
    "        if L==0:\n",
    "            L=self.L\n",
    "        model_num=len(samples_packs)-1\n",
    "        if model_num==0:\n",
    "            lasso=Lasso(alpha=0.01)\n",
    "            lasso.fit(samples_packs[0].getX(),samples_packs[0].getY())\n",
    "            #保留绝对值前s大个-?有意义吗？\n",
    "            self.params=lasso.coef_\n",
    "            return lasso.coef_,[],[],[]\n",
    "        # 初始化参数\n",
    "        # -?第一次迭代时使用全部模型,v=[1,1,1,1,...]\n",
    "        #计算程序运行时间\n",
    "        start_time=time.time()\n",
    "        times=[]\n",
    "        times.append(time.time()-start_time)\n",
    "        \n",
    "        v=np.ones(len(samples_packs)-1)\n",
    "        v1=np.ones(len(samples_packs)-1)\n",
    "        # beta为目标模型的回归系数\n",
    "        beta=np.zeros(len(samples_packs[0].getX()[0]))\n",
    "        delta=np.zeros((len(samples_packs)-1,len(samples_packs[0].getX()[0])))\n",
    "        # 迭代求解\n",
    "        max_iter=10\n",
    "        # 设置算法的退出阈值threshold\n",
    "        threshold=0.001\n",
    "        beta1=np.ones(len(samples_packs[0].getX()[0]))\n",
    "        beta2=np.ones(len(samples_packs[0].getX()[0]))\n",
    "        for i in range(max_iter):\n",
    "            # 第一步:交替求解beta与delta\n",
    "            if i==0:\n",
    "                times.append(time.time()-start_time)\n",
    "            for j in range(max_iter):\n",
    "                beta=self.update_beta(delta,v,samples_packs)\n",
    "                #计算beta与beta2的差的2范数\n",
    "                if np.linalg.norm(beta-beta2)<threshold:\n",
    "                    break\n",
    "                beta2=beta\n",
    "                if i==0:\n",
    "                    times.append(time.time()-start_time)\n",
    "                #对K个辅助模型分别更新其delta_k\n",
    "                for k in range(len(samples_packs)-1):\n",
    "                    delta[k]=self.update_delta_k(beta,samples_packs[k+1])\n",
    "                if i==0:\n",
    "                    times.append(time.time()-start_time)\n",
    "            if np.linalg.norm(beta-beta1)<threshold:\n",
    "                break\n",
    "            beta1=beta\n",
    "            # 第二步：更新v\n",
    "            # 选择delta的q范数最小的L个模型，将其对应的v设为1，其余设为0。\n",
    "            # 目前选择q=2\n",
    "            if i==0:\n",
    "                times.append(time.time()-start_time)\n",
    "            v=np.zeros(len(samples_packs[1:]))\n",
    "            v[np.argsort(np.linalg.norm(delta,axis=1))[:L]]=1\n",
    "            if np.linalg.norm(v-v1)<threshold:#-?除了beta不变之外，加入了v不变的退出条件。实际上这两个退出的效果是一样的（吗？）\n",
    "                break\n",
    "            v1=v\n",
    "            if i==0:\n",
    "                times.append(time.time()-start_time)\n",
    "        # 返回beta\n",
    "        # -?暂时不设置稀疏度-?设置了一下\n",
    "        #保留绝对值前s大个\n",
    "        # beta[np.argsort(np.abs(beta))[:-s]] = 0\n",
    "        self.params=beta\n",
    "        return beta,delta,v"
   ]
  },
  {
   "cell_type": "markdown",
   "metadata": {},
   "source": [
    "### 测试1：t11（独立同分布、同质、固定差异），与lasso对比"
   ]
  },
  {
   "cell_type": "code",
   "execution_count": 3,
   "metadata": {},
   "outputs": [
    {
     "name": "stderr",
     "output_type": "stream",
     "text": [
      "100%|██████████| 11/11 [32:01<00:00, 174.64s/it]\n",
      "100%|██████████| 11/11 [31:08<00:00, 169.88s/it]\n"
     ]
    }
   ],
   "source": [
    "models=[Our_method(n_features,s,1),T_lasso(n_features,s,1)]\n",
    "#L=2,4,8,12,16,20 -?没有做L=0的代码\n",
    "#多次实验取平均\n",
    "import multiprocessing\n",
    "workers=multiprocessing.cpu_count()\n",
    "result_list=[]\n",
    "for h in [2,6]:\n",
    "    result_list.append([])\n",
    "    for L in tqdm([2,4,8,12,16,20,24,28,32,36,40]):\n",
    "    # for L in tqdm([2,4,8,12]):\n",
    "        result_list[-1].append([])\n",
    "        eval=evaluator(repeat_times=1,model_num=len(models))\n",
    "        for i in range(60):\n",
    "            sample_packs,coef_true=t11_eval(n_features,s,n_packs,n_samples,h,L)\n",
    "            eval.append(models,sample_packs,coef_true,s,L,False)\n",
    "        eval.run(workers)\n",
    "        result_list[-1][-1]=eval.result_list\n",
    "#将result_list保存下来\n",
    "result_list=np.array(result_list)\n",
    "# np.save('result_list7-1.npy',result_list)"
   ]
  },
  {
   "cell_type": "code",
   "execution_count": null,
   "metadata": {},
   "outputs": [],
   "source": []
  },
  {
   "cell_type": "code",
   "execution_count": 4,
   "metadata": {},
   "outputs": [
    {
     "data": {
      "text/plain": [
       "(2, 11, 2, 60)"
      ]
     },
     "execution_count": 4,
     "metadata": {},
     "output_type": "execute_result"
    }
   ],
   "source": [
    "result_list.shape"
   ]
  },
  {
   "cell_type": "code",
   "execution_count": 5,
   "metadata": {},
   "outputs": [],
   "source": [
    "result=np.mean(result_list,axis=3)\n",
    "#将第二个轴和第三个轴交换\n",
    "result=np.swapaxes(result,1,2)"
   ]
  },
  {
   "cell_type": "code",
   "execution_count": 7,
   "metadata": {},
   "outputs": [
    {
     "data": {
      "image/png": "[encoded data removed]",
      "text/plain": [
       "<Figure size 2000x500 with 2 Axes>"
      ]
     },
     "metadata": {},
     "output_type": "display_data"
    }
   ],
   "source": [
    "#画图，横轴是L，纵轴是SSE，依照h分三张图\n",
    "fig=plt.figure(figsize=(20,5))\n",
    "\n",
    "plt.subplot(1,3,1)\n",
    "plt.plot([2,4,8,12,16,20,24,28,32,36,40],result[0,0,:],label='our_method')\n",
    "plt.plot([2,4,8,12,16,20,24,28,32,36,40],result[0,1,:],label='trans_lasso')\n",
    "# plt.plot([2,4,8,12,16,20,24,28,32,36,40],result[0,2,:],label='t_lasso')\n",
    "# plt.plot([2,4,8,12,16,20,24,28,32,36,40],result[0,3,:],label='least_square')\n",
    "plt.legend()\n",
    "plt.xlabel('L')\n",
    "plt.ylabel('SSE')\n",
    "#设置y的范围为0~0.5\n",
    "plt.ylim(0,0.5)\n",
    "plt.title('h=2') \n",
    "\n",
    "plt.subplot(1,3,2)\n",
    "plt.plot([2,4,8,12,16,20,24,28,32,36,40],result[1,0,:],label='our_method')\n",
    "plt.plot([2,4,8,12,16,20,24,28,32,36,40],result[1,1,:],label='trans_lasso')\n",
    "# plt.plot([2,4,8,12,16,20,24,28,32,36,40],result[1,2,:],label='t_lasso')\n",
    "# plt.plot([2,4,8,12,16,20,24,28,32,36,40],result[1,3,:],label='least_square')\n",
    "plt.legend()\n",
    "plt.xlabel('L')\n",
    "plt.ylabel('SSE')\n",
    "#设置y的范围为0~0.5\n",
    "plt.ylim(0,0.5)\n",
    "plt.title('h=6')\n",
    "\n",
    "# plt.subplot(1,3,3)\n",
    "# plt.plot([2,4,8,12,16,20,24,28,32,36,40],result[2,0,:],label='our_method')\n",
    "# plt.plot([2,4,8,12,16,20,24,28,32,36,40],result[2,1,:],label='trans_lasso')\n",
    "# plt.plot([2,4,8,12,16,20,24,28,32,36,40],result[2,2,:],label='t_lasso')\n",
    "# plt.legend()\n",
    "# plt.xlabel('L')\n",
    "# plt.ylabel('SSE')\n",
    "# #设置y的范围为0~0.5\n",
    "# # plt.ylim(0,0.5)\n",
    "# plt.title('h=12') \n",
    "\n",
    "#设置图像大小\n",
    "plt.show()"
   ]
  },
  {
   "cell_type": "markdown",
   "metadata": {},
   "source": [
    "### 测试2：indep（same），与lasso对比"
   ]
  },
  {
   "cell_type": "code",
   "execution_count": 11,
   "metadata": {},
   "outputs": [
    {
     "name": "stderr",
     "output_type": "stream",
     "text": [
      "100%|██████████| 11/11 [36:01<00:00, 196.51s/it]\n",
      "100%|██████████| 11/11 [35:32<00:00, 193.85s/it]\n"
     ]
    }
   ],
   "source": [
    "models=[Our_method(n_features,s,1),T_lasso(n_features,s,1)]\n",
    "#L=2,4,8,12,16,20 -?没有做L=0的代码\n",
    "#多次实验取平均\n",
    "import multiprocessing\n",
    "workers=multiprocessing.cpu_count()\n",
    "result_list=[]\n",
    "for h in [2,6]:\n",
    "    result_list.append([])\n",
    "    for L in tqdm([2,4,8,12,16,20,24,28,32,36,40]):\n",
    "    # for L in tqdm([2,4,8,12]):\n",
    "        result_list[-1].append([])\n",
    "        eval=evaluator(repeat_times=1,model_num=len(models))\n",
    "        for i in range(60):\n",
    "            sample_packs,coef_true=indep_eval(n_features,s,n_packs,n_samples)\n",
    "            eval.append(models,sample_packs,coef_true,s,L,False)\n",
    "        eval.run(workers)\n",
    "        result_list[-1][-1]=eval.result_list\n",
    "#将result_list保存下来\n",
    "result_list=np.array(result_list)\n",
    "# np.save('result_list7-1.npy',result_list)"
   ]
  },
  {
   "cell_type": "code",
   "execution_count": null,
   "metadata": {},
   "outputs": [],
   "source": []
  },
  {
   "cell_type": "code",
   "execution_count": 12,
   "metadata": {},
   "outputs": [
    {
     "data": {
      "text/plain": [
       "(2, 11, 2, 60)"
      ]
     },
     "execution_count": 12,
     "metadata": {},
     "output_type": "execute_result"
    }
   ],
   "source": [
    "result_list.shape"
   ]
  },
  {
   "cell_type": "code",
   "execution_count": 13,
   "metadata": {},
   "outputs": [],
   "source": [
    "result=np.mean(result_list,axis=3)\n",
    "#将第二个轴和第三个轴交换\n",
    "result=np.swapaxes(result,1,2)"
   ]
  },
  {
   "cell_type": "code",
   "execution_count": 14,
   "metadata": {},
   "outputs": [
    {
     "data": {
      "image/png": "[encoded data removed]",
      "text/plain": [
       "<Figure size 2000x500 with 2 Axes>"
      ]
     },
     "metadata": {},
     "output_type": "display_data"
    }
   ],
   "source": [
    "#画图，横轴是L，纵轴是SSE，依照h分三张图\n",
    "fig=plt.figure(figsize=(20,5))\n",
    "\n",
    "plt.subplot(1,3,1)\n",
    "plt.plot([2,4,8,12,16,20,24,28,32,36,40],result[0,0,:],label='our_method')\n",
    "plt.plot([2,4,8,12,16,20,24,28,32,36,40],result[0,1,:],label='trans_lasso')\n",
    "# plt.plot([2,4,8,12,16,20,24,28,32,36,40],result[0,2,:],label='t_lasso')\n",
    "# plt.plot([2,4,8,12,16,20,24,28,32,36,40],result[0,3,:],label='least_square')\n",
    "plt.legend()\n",
    "plt.xlabel('L')\n",
    "plt.ylabel('SSE')\n",
    "#设置y的范围为0~0.5\n",
    "plt.ylim(0,0.5)\n",
    "plt.title('h=2') \n",
    "\n",
    "plt.subplot(1,3,2)\n",
    "plt.plot([2,4,8,12,16,20,24,28,32,36,40],result[1,0,:],label='our_method')\n",
    "plt.plot([2,4,8,12,16,20,24,28,32,36,40],result[1,1,:],label='trans_lasso')\n",
    "# plt.plot([2,4,8,12,16,20,24,28,32,36,40],result[1,2,:],label='t_lasso')\n",
    "# plt.plot([2,4,8,12,16,20,24,28,32,36,40],result[1,3,:],label='least_square')\n",
    "plt.legend()\n",
    "plt.xlabel('L')\n",
    "plt.ylabel('SSE')\n",
    "#设置y的范围为0~0.5\n",
    "plt.ylim(0,0.5)\n",
    "plt.title('h=6')\n",
    "\n",
    "# plt.subplot(1,3,3)\n",
    "# plt.plot([2,4,8,12,16,20,24,28,32,36,40],result[2,0,:],label='our_method')\n",
    "# plt.plot([2,4,8,12,16,20,24,28,32,36,40],result[2,1,:],label='trans_lasso')\n",
    "# plt.plot([2,4,8,12,16,20,24,28,32,36,40],result[2,2,:],label='t_lasso')\n",
    "# plt.legend()\n",
    "# plt.xlabel('L')\n",
    "# plt.ylabel('SSE')\n",
    "# #设置y的范围为0~0.5\n",
    "# # plt.ylim(0,0.5)\n",
    "# plt.title('h=12') \n",
    "\n",
    "#设置图像大小\n",
    "plt.show()"
   ]
  },
  {
   "cell_type": "markdown",
   "metadata": {},
   "source": [
    "## 调试"
   ]
  },
  {
   "cell_type": "code",
   "execution_count": 11,
   "metadata": {},
   "outputs": [],
   "source": [
    "import random\n",
    "# 考虑后期以该类模拟不同数据的分布，对取数据加以时间限制等\n",
    "class samples_pack:\n",
    "    def __init__(self, X, y):\n",
    "        self.X = X\n",
    "        self.y = y\n",
    "    def __len__(self):\n",
    "        return len(self.y)\n",
    "    def get_n_fretures(self):\n",
    "        return len(self.X[0])\n",
    "    def __getitem__(self, idx):\n",
    "        return self.X[idx], self.y[idx]\n",
    "    def getX(self):\n",
    "        return self.X\n",
    "    def getY(self):\n",
    "        return self.y\n",
    "\n",
    "# 生成样本数据\n",
    "#   \n",
    "def coef_gen(coef, cov, noise_mean, noise_var, n_samples):\n",
    "    # 生成特征\n",
    "    X = np.random.multivariate_normal(np.zeros(len(coef)), cov, n_samples)\n",
    "    # 生成噪声\n",
    "    noise = np.random.normal(noise_mean, noise_var, n_samples)\n",
    "    # 生成标签\n",
    "    y = np.dot(X, coef) + noise\n",
    "    return X, y\n",
    "\n",
    "def indep_eval(n_features,s,n_packs,n_samples):\n",
    "    coef_true = np.zeros(n_features)\n",
    "    coef_true[:s] = 0.3\n",
    "    samples_packs=[]\n",
    "    # 设定超参数：各模型回归系数、特征间的协方差矩阵、噪声的均值与方差\n",
    "    # 长度为n_features, 其中前s个为非零回归系数，后n_features-s个为零\n",
    "    #生成样本\n",
    "    for i in range(n_packs):\n",
    "        cov = np.eye(n_features)\n",
    "        delta = np.zeros(n_features)\n",
    "        #delta=e*i*0.01\n",
    "        # delta[:]=0.01*i\n",
    "        coef=coef_true+delta\n",
    "        noise_mean = 0\n",
    "        noise_var = 1\n",
    "        X, y = coef_gen(coef, cov, noise_mean, noise_var, n_samples)\n",
    "        samples_packs.append(samples_pack(X, y))\n",
    "    return samples_packs,coef_true\n",
    "\n",
    "def t11_eval(n_features,s,n_packs,n_samples,h,L):\n",
    "    coef_list=[]\n",
    "    coef_true = np.zeros(n_features)\n",
    "    coef_true[:s] = 0.3\n",
    "    # coef_list.append(coef_true)\n",
    "    samples_packs=[]\n",
    "    # 设定超参数：各模型回归系数、特征间的协方差矩阵、噪声的均值与方差\n",
    "    # 长度为n_features, 其中前s个为非零回归系数，后n_features-s个为零\n",
    "    #生成样本\n",
    "    for i in range(n_packs):\n",
    "        cov = np.eye(n_features)\n",
    "        delta = np.zeros(n_features)\n",
    "        #在0~n_features之间随机选取h个位置，将其回归系数减0.3\n",
    "        if i==0:\n",
    "            pass\n",
    "        elif i<L+1:\n",
    "            random_list=random.sample(range(n_features),h)\n",
    "            delta[random_list]=-0.2\n",
    "        else:\n",
    "            random_list=random.sample(range(n_features),12)\n",
    "            delta[random_list]=-0.5\n",
    "        coef=coef_true+delta\n",
    "        coef_list.append(coef)\n",
    "        noise_mean = 0\n",
    "        noise_var = 1\n",
    "        X, y = coef_gen(coef, cov, noise_mean, noise_var, n_samples)\n",
    "        samples_packs.append(samples_pack(X, y))\n",
    "    return samples_packs,coef_true,coef_list"
   ]
  },
  {
   "cell_type": "code",
   "execution_count": 4,
   "metadata": {},
   "outputs": [],
   "source": [
    "n_features=16\n",
    "n_samples=100\n",
    "n_packs=101\n",
    "s=16"
   ]
  },
  {
   "cell_type": "code",
   "execution_count": 19,
   "metadata": {},
   "outputs": [
    {
     "name": "stderr",
     "output_type": "stream",
     "text": [
      "100%|██████████| 11/11 [02:43<00:00, 14.88s/it]\n"
     ]
    },
    {
     "ename": "ValueError",
     "evalue": "setting an array element with a sequence. The requested array has an inhomogeneous shape after 2 dimensions. The detected shape was (11, 4) + inhomogeneous part.",
     "output_type": "error",
     "traceback": [
      "\u001b[1;31m---------------------------------------------------------------------------\u001b[0m",
      "\u001b[1;31mValueError\u001b[0m                                Traceback (most recent call last)",
      "\u001b[1;32mc:\\Users\\haitang\\Documents\\CODE\\simulation\\low_dim_2.ipynb 单元格 17\u001b[0m line \u001b[0;36m2\n\u001b[0;32m     <a href='vscode-notebook-cell:/c%3A/Users/haitang/Documents/CODE/simulation/low_dim_2.ipynb#X34sZmlsZQ%3D%3D?line=18'>19</a>\u001b[0m     SSE_list\u001b[39m.\u001b[39mappend(SSE)\n\u001b[0;32m     <a href='vscode-notebook-cell:/c%3A/Users/haitang/Documents/CODE/simulation/low_dim_2.ipynb#X34sZmlsZQ%3D%3D?line=19'>20</a>\u001b[0m \u001b[39m#将result_list保存下来\u001b[39;00m\n\u001b[1;32m---> <a href='vscode-notebook-cell:/c%3A/Users/haitang/Documents/CODE/simulation/low_dim_2.ipynb#X34sZmlsZQ%3D%3D?line=20'>21</a>\u001b[0m result_list\u001b[39m=\u001b[39mnp\u001b[39m.\u001b[39;49marray(result_list)\n\u001b[0;32m     <a href='vscode-notebook-cell:/c%3A/Users/haitang/Documents/CODE/simulation/low_dim_2.ipynb#X34sZmlsZQ%3D%3D?line=21'>22</a>\u001b[0m \u001b[39mprint\u001b[39m(result_list)\n",
      "\u001b[1;31mValueError\u001b[0m: setting an array element with a sequence. The requested array has an inhomogeneous shape after 2 dimensions. The detected shape was (11, 4) + inhomogeneous part."
     ]
    }
   ],
   "source": [
    "model=Our_method(n_features,s,1)\n",
    "\n",
    "result_list=[]\n",
    "SSE_list=[]\n",
    "h=6\n",
    "for L in tqdm([2,4,8,12,16,20,24,28,32,36,40]):\n",
    "    SSE=0\n",
    "    for i in range(1):\n",
    "        sample_packs,coef_true=t11_eval(n_features,s,n_packs,n_samples,h,L)\n",
    "        output=model.fit(sample_packs,s,L)\n",
    "        beta,delta,v,time=output\n",
    "        SSE+=np.linalg.norm(beta-coef_true)\n",
    "        result_list.append(output)\n",
    "    SSE/=(i+1)\n",
    "    SSE_list.append(SSE)"
   ]
  },
  {
   "cell_type": "markdown",
   "metadata": {},
   "source": [
    "怎么这么慢？"
   ]
  },
  {
   "cell_type": "code",
   "execution_count": 25,
   "metadata": {},
   "outputs": [
    {
     "data": {
      "text/plain": [
       "[<matplotlib.lines.Line2D at 0x23b5dd2c390>]"
      ]
     },
     "execution_count": 25,
     "metadata": {},
     "output_type": "execute_result"
    },
    {
     "data": {
      "image/png": "[encoded data removed]",
      "text/plain": [
       "<Figure size 640x480 with 1 Axes>"
      ]
     },
     "metadata": {},
     "output_type": "display_data"
    }
   ],
   "source": [
    "plt.plot([2,4,8,12,16,20,24,28,32,36,40],SSE_list)"
   ]
  },
  {
   "cell_type": "code",
   "execution_count": 26,
   "metadata": {},
   "outputs": [
    {
     "data": {
      "text/plain": [
       "(array([0.15280754, 0.02308959, 0.39230022, 0.15322755, 0.27028353,\n",
       "        0.34904061, 0.25888705, 0.13440547, 0.15722922, 0.02239347,\n",
       "        0.07237067, 0.23071295, 0.25037257, 0.2377157 , 0.20776874,\n",
       "        0.17596816]),\n",
       " array([[ 0.31200687,  0.43081386, -0.10415752, ..., -0.06275937,\n",
       "          0.15458481,  0.04218067],\n",
       "        [ 0.04166365,  0.17402005, -0.23656813, ...,  0.04006957,\n",
       "          0.14308445, -0.00896652],\n",
       "        [-0.09800639,  0.17134645, -0.19126163, ..., -0.17566893,\n",
       "          0.1976249 , -0.21484747],\n",
       "        ...,\n",
       "        [ 0.11055836, -0.35531981, -0.47104139, ..., -0.62082193,\n",
       "         -0.02907757, -0.40069944],\n",
       "        [-0.01544885, -0.21281934, -0.09292983, ..., -0.30384612,\n",
       "         -0.57228536, -0.5258882 ],\n",
       "        [-0.52326653, -0.07417124, -0.70768071, ..., -0.27275839,\n",
       "         -0.48224502, -0.21501262]]),\n",
       " array([1., 1., 1., 1., 1., 1., 1., 1., 1., 1., 1., 1., 1., 1., 1., 1., 0.,\n",
       "        0., 0., 0., 0., 0., 0., 0., 0., 0., 0., 0., 0., 0., 0., 0., 0., 0.,\n",
       "        0., 0., 0., 0., 0., 0., 0., 0., 0., 0., 0., 0., 0., 0., 0., 0., 0.,\n",
       "        0., 0., 0., 0., 0., 0., 0., 0., 0., 0., 0., 0., 0., 0., 0., 0., 0.,\n",
       "        0., 0., 0., 0., 0., 0., 0., 0., 0., 0., 0., 0., 0., 0., 0., 0., 0.,\n",
       "        0., 0., 0., 0., 0., 0., 0., 0., 0., 0., 0., 0., 0., 0., 0.]),\n",
       " [0.0,\n",
       "  0.0,\n",
       "  0.0019960403442382812,\n",
       "  0.43424272537231445,\n",
       "  0.43625402450561523,\n",
       "  0.8401310443878174,\n",
       "  0.8421461582183838,\n",
       "  1.254140853881836,\n",
       "  1.257136344909668,\n",
       "  1.6843047142028809,\n",
       "  1.6863195896148682,\n",
       "  2.078266143798828,\n",
       "  2.080264091491699,\n",
       "  2.4994394779205322,\n",
       "  2.5014381408691406,\n",
       "  2.935478448867798,\n",
       "  2.9374756813049316,\n",
       "  3.3487305641174316,\n",
       "  3.350743293762207,\n",
       "  3.7682485580444336,\n",
       "  3.7702598571777344,\n",
       "  4.1833930015563965,\n",
       "  4.1833930015563965,\n",
       "  4.1833930015563965])"
      ]
     },
     "execution_count": 26,
     "metadata": {},
     "output_type": "execute_result"
    }
   ],
   "source": [
    "result_list[4]"
   ]
  },
  {
   "cell_type": "markdown",
   "metadata": {},
   "source": [
    "## 调试2"
   ]
  },
  {
   "cell_type": "code",
   "execution_count": null,
   "metadata": {},
   "outputs": [
    {
     "name": "stderr",
     "output_type": "stream",
     "text": [
      "  0%|          | 0/1 [00:00<?, ?it/s]"
     ]
    },
    {
     "name": "stderr",
     "output_type": "stream",
     "text": [
      "100%|██████████| 1/1 [00:54<00:00, 54.09s/it]\n"
     ]
    }
   ],
   "source": [
    "n_features=16\n",
    "n_samples=100\n",
    "n_packs=101\n",
    "s=16\n",
    "model=Our_method(n_features,s,1)\n",
    "\n",
    "result_list=[]\n",
    "SSE_list=[]\n",
    "h=6\n",
    "L=16\n",
    "SSE=0\n",
    "for i in tqdm(range(1)):\n",
    "    sample_packs,coef_true,coef_list=t11_eval(n_features,s,n_packs,n_samples,h,L)\n",
    "    output=model.fit(sample_packs,s,L)\n",
    "    beta,delta,v=output\n",
    "    SSE+=np.linalg.norm(beta-coef_true)\n",
    "    result_list.append(output)\n",
    "SSE/=(i+1)"
   ]
  },
  {
   "cell_type": "code",
   "execution_count": 7,
   "metadata": {},
   "outputs": [
    {
     "data": {
      "text/plain": [
       "0.45557504625386347"
      ]
     },
     "execution_count": 7,
     "metadata": {},
     "output_type": "execute_result"
    }
   ],
   "source": [
    "SSE"
   ]
  },
  {
   "cell_type": "code",
   "execution_count": 8,
   "metadata": {},
   "outputs": [
    {
     "data": {
      "text/plain": [
       "(array([0.3006354 , 0.18270709, 0.22400635, 0.29747579, 0.25098844,\n",
       "        0.18678748, 0.02568585, 0.38448796, 0.33527595, 0.24342468,\n",
       "        0.33292412, 0.24169674, 0.31024202, 0.20405042, 0.37704625,\n",
       "        0.0426525 ]),\n",
       " array([[-0.34524105,  0.10652286, -0.16828097, ..., -0.01692341,\n",
       "         -0.20073116,  0.1566751 ],\n",
       "        [-0.29229514, -0.09605199, -0.02815423, ...,  0.21908915,\n",
       "         -0.33264275,  0.31422361],\n",
       "        [-0.07650145, -0.00106799, -0.11733212, ...,  0.13361767,\n",
       "          0.11647046,  0.1870778 ],\n",
       "        ...,\n",
       "        [-0.62449888, -0.25971777, -0.33710032, ..., -0.20285005,\n",
       "         -0.80087638, -0.21259247],\n",
       "        [-0.68371018, -0.42760325, -0.37890012, ..., -0.28263794,\n",
       "         -0.41878303,  0.19167719],\n",
       "        [-0.49223389, -0.33299597, -0.31137416, ..., -0.4346751 ,\n",
       "         -0.36126313, -0.14801989]]),\n",
       " array([1., 1., 1., 1., 1., 1., 1., 1., 1., 1., 1., 1., 1., 1., 1., 1., 0.,\n",
       "        0., 0., 0., 0., 0., 0., 0., 0., 0., 0., 0., 0., 0., 0., 0., 0., 0.,\n",
       "        0., 0., 0., 0., 0., 0., 0., 0., 0., 0., 0., 0., 0., 0., 0., 0., 0.,\n",
       "        0., 0., 0., 0., 0., 0., 0., 0., 0., 0., 0., 0., 0., 0., 0., 0., 0.,\n",
       "        0., 0., 0., 0., 0., 0., 0., 0., 0., 0., 0., 0., 0., 0., 0., 0., 0.,\n",
       "        0., 0., 0., 0., 0., 0., 0., 0., 0., 0., 0., 0., 0., 0., 0.]))"
      ]
     },
     "execution_count": 8,
     "metadata": {},
     "output_type": "execute_result"
    }
   ],
   "source": [
    "output"
   ]
  },
  {
   "cell_type": "code",
   "execution_count": 13,
   "metadata": {},
   "outputs": [
    {
     "data": {
      "text/plain": [
       "[array([0.3, 0.3, 0.3, 0.3, 0.3, 0.3, 0.3, 0.3, 0.3, 0.3, 0.3, 0.3, 0.3,\n",
       "        0.3, 0.3, 0.3]),\n",
       " array([0.1, 0.3, 0.1, 0.3, 0.1, 0.1, 0.3, 0.3, 0.3, 0.1, 0.3, 0.1, 0.3,\n",
       "        0.3, 0.3, 0.3]),\n",
       " array([0.3, 0.1, 0.3, 0.3, 0.3, 0.3, 0.1, 0.1, 0.3, 0.1, 0.1, 0.3, 0.3,\n",
       "        0.3, 0.1, 0.3]),\n",
       " array([0.1, 0.3, 0.3, 0.3, 0.1, 0.3, 0.1, 0.3, 0.3, 0.1, 0.1, 0.3, 0.1,\n",
       "        0.3, 0.3, 0.3]),\n",
       " array([0.3, 0.3, 0.1, 0.3, 0.3, 0.3, 0.1, 0.1, 0.1, 0.3, 0.1, 0.3, 0.1,\n",
       "        0.3, 0.3, 0.3]),\n",
       " array([0.3, 0.3, 0.1, 0.3, 0.3, 0.1, 0.3, 0.1, 0.3, 0.3, 0.1, 0.3, 0.3,\n",
       "        0.1, 0.3, 0.1]),\n",
       " array([0.3, 0.3, 0.3, 0.1, 0.3, 0.1, 0.1, 0.3, 0.1, 0.3, 0.1, 0.3, 0.3,\n",
       "        0.1, 0.3, 0.3]),\n",
       " array([0.1, 0.3, 0.1, 0.1, 0.3, 0.3, 0.3, 0.3, 0.3, 0.3, 0.1, 0.1, 0.3,\n",
       "        0.3, 0.3, 0.1]),\n",
       " array([0.3, 0.3, 0.1, 0.3, 0.1, 0.3, 0.3, 0.1, 0.1, 0.1, 0.3, 0.3, 0.3,\n",
       "        0.3, 0.1, 0.3]),\n",
       " array([0.3, 0.3, 0.1, 0.3, 0.3, 0.1, 0.1, 0.1, 0.3, 0.3, 0.3, 0.3, 0.3,\n",
       "        0.1, 0.1, 0.3]),\n",
       " array([0.3, 0.3, 0.3, 0.3, 0.3, 0.1, 0.1, 0.1, 0.3, 0.3, 0.3, 0.1, 0.3,\n",
       "        0.1, 0.3, 0.1]),\n",
       " array([0.3, 0.3, 0.3, 0.3, 0.1, 0.3, 0.3, 0.3, 0.1, 0.1, 0.3, 0.3, 0.1,\n",
       "        0.3, 0.1, 0.1]),\n",
       " array([0.1, 0.3, 0.3, 0.3, 0.3, 0.3, 0.1, 0.3, 0.3, 0.1, 0.1, 0.3, 0.1,\n",
       "        0.1, 0.3, 0.3]),\n",
       " array([0.1, 0.3, 0.1, 0.1, 0.3, 0.3, 0.1, 0.3, 0.3, 0.3, 0.3, 0.1, 0.3,\n",
       "        0.3, 0.1, 0.3]),\n",
       " array([0.1, 0.3, 0.3, 0.3, 0.3, 0.1, 0.3, 0.3, 0.1, 0.3, 0.1, 0.3, 0.1,\n",
       "        0.1, 0.3, 0.3]),\n",
       " array([0.1, 0.3, 0.3, 0.1, 0.3, 0.3, 0.3, 0.3, 0.1, 0.1, 0.3, 0.3, 0.3,\n",
       "        0.3, 0.1, 0.1]),\n",
       " array([0.1, 0.1, 0.3, 0.3, 0.3, 0.3, 0.3, 0.3, 0.3, 0.1, 0.1, 0.3, 0.1,\n",
       "        0.3, 0.1, 0.3]),\n",
       " array([-0.2, -0.2, -0.2, -0.2, -0.2,  0.3,  0.3, -0.2, -0.2,  0.3, -0.2,\n",
       "        -0.2, -0.2,  0.3, -0.2, -0.2]),\n",
       " array([-0.2, -0.2, -0.2, -0.2, -0.2,  0.3,  0.3,  0.3,  0.3, -0.2, -0.2,\n",
       "        -0.2, -0.2, -0.2, -0.2, -0.2]),\n",
       " array([ 0.3, -0.2, -0.2, -0.2, -0.2, -0.2, -0.2, -0.2,  0.3, -0.2, -0.2,\n",
       "        -0.2,  0.3,  0.3, -0.2, -0.2]),\n",
       " array([-0.2,  0.3, -0.2, -0.2, -0.2, -0.2, -0.2, -0.2, -0.2,  0.3, -0.2,\n",
       "        -0.2,  0.3,  0.3, -0.2, -0.2]),\n",
       " array([-0.2, -0.2, -0.2,  0.3, -0.2, -0.2,  0.3, -0.2, -0.2, -0.2, -0.2,\n",
       "         0.3, -0.2, -0.2,  0.3, -0.2]),\n",
       " array([-0.2, -0.2,  0.3, -0.2,  0.3, -0.2, -0.2, -0.2, -0.2,  0.3, -0.2,\n",
       "         0.3, -0.2, -0.2, -0.2, -0.2]),\n",
       " array([ 0.3, -0.2,  0.3, -0.2, -0.2, -0.2, -0.2, -0.2, -0.2, -0.2, -0.2,\n",
       "         0.3, -0.2,  0.3, -0.2, -0.2]),\n",
       " array([-0.2, -0.2,  0.3, -0.2,  0.3, -0.2, -0.2, -0.2, -0.2, -0.2, -0.2,\n",
       "        -0.2,  0.3,  0.3, -0.2, -0.2]),\n",
       " array([ 0.3,  0.3, -0.2, -0.2, -0.2, -0.2, -0.2,  0.3, -0.2,  0.3, -0.2,\n",
       "        -0.2, -0.2, -0.2, -0.2, -0.2]),\n",
       " array([ 0.3, -0.2, -0.2, -0.2, -0.2, -0.2, -0.2, -0.2, -0.2, -0.2,  0.3,\n",
       "        -0.2, -0.2,  0.3, -0.2,  0.3]),\n",
       " array([-0.2, -0.2, -0.2,  0.3, -0.2,  0.3, -0.2,  0.3, -0.2, -0.2, -0.2,\n",
       "        -0.2, -0.2, -0.2, -0.2,  0.3]),\n",
       " array([-0.2,  0.3, -0.2, -0.2,  0.3, -0.2,  0.3, -0.2,  0.3, -0.2, -0.2,\n",
       "        -0.2, -0.2, -0.2, -0.2, -0.2]),\n",
       " array([ 0.3,  0.3, -0.2, -0.2, -0.2, -0.2,  0.3, -0.2, -0.2, -0.2,  0.3,\n",
       "        -0.2, -0.2, -0.2, -0.2, -0.2]),\n",
       " array([-0.2, -0.2,  0.3,  0.3,  0.3, -0.2, -0.2, -0.2, -0.2, -0.2, -0.2,\n",
       "        -0.2, -0.2, -0.2,  0.3, -0.2]),\n",
       " array([-0.2, -0.2,  0.3,  0.3, -0.2, -0.2, -0.2, -0.2, -0.2, -0.2, -0.2,\n",
       "        -0.2, -0.2,  0.3, -0.2,  0.3]),\n",
       " array([ 0.3, -0.2, -0.2,  0.3, -0.2, -0.2, -0.2, -0.2,  0.3, -0.2, -0.2,\n",
       "         0.3, -0.2, -0.2, -0.2, -0.2]),\n",
       " array([-0.2, -0.2, -0.2, -0.2,  0.3,  0.3, -0.2, -0.2, -0.2, -0.2, -0.2,\n",
       "        -0.2, -0.2,  0.3, -0.2,  0.3]),\n",
       " array([-0.2, -0.2, -0.2, -0.2,  0.3,  0.3, -0.2,  0.3,  0.3, -0.2, -0.2,\n",
       "        -0.2, -0.2, -0.2, -0.2, -0.2]),\n",
       " array([ 0.3, -0.2, -0.2, -0.2, -0.2, -0.2, -0.2, -0.2,  0.3, -0.2,  0.3,\n",
       "         0.3, -0.2, -0.2, -0.2, -0.2]),\n",
       " array([-0.2, -0.2, -0.2,  0.3, -0.2, -0.2, -0.2, -0.2, -0.2,  0.3, -0.2,\n",
       "         0.3, -0.2, -0.2, -0.2,  0.3]),\n",
       " array([-0.2,  0.3, -0.2, -0.2, -0.2,  0.3, -0.2, -0.2, -0.2, -0.2, -0.2,\n",
       "        -0.2, -0.2, -0.2,  0.3,  0.3]),\n",
       " array([-0.2,  0.3, -0.2, -0.2,  0.3, -0.2,  0.3, -0.2, -0.2, -0.2, -0.2,\n",
       "        -0.2, -0.2, -0.2,  0.3, -0.2]),\n",
       " array([-0.2,  0.3, -0.2,  0.3,  0.3, -0.2, -0.2, -0.2, -0.2,  0.3, -0.2,\n",
       "        -0.2, -0.2, -0.2, -0.2, -0.2]),\n",
       " array([ 0.3, -0.2, -0.2, -0.2,  0.3,  0.3, -0.2, -0.2,  0.3, -0.2, -0.2,\n",
       "        -0.2, -0.2, -0.2, -0.2, -0.2]),\n",
       " array([-0.2, -0.2,  0.3, -0.2, -0.2, -0.2, -0.2, -0.2, -0.2,  0.3, -0.2,\n",
       "        -0.2,  0.3, -0.2, -0.2,  0.3]),\n",
       " array([-0.2, -0.2, -0.2, -0.2, -0.2, -0.2, -0.2,  0.3, -0.2, -0.2,  0.3,\n",
       "        -0.2,  0.3, -0.2, -0.2,  0.3]),\n",
       " array([ 0.3, -0.2, -0.2, -0.2,  0.3, -0.2, -0.2, -0.2, -0.2, -0.2,  0.3,\n",
       "        -0.2, -0.2, -0.2,  0.3, -0.2]),\n",
       " array([ 0.3,  0.3, -0.2, -0.2, -0.2, -0.2, -0.2, -0.2, -0.2, -0.2, -0.2,\n",
       "         0.3, -0.2, -0.2, -0.2,  0.3]),\n",
       " array([-0.2, -0.2,  0.3, -0.2,  0.3, -0.2,  0.3,  0.3, -0.2, -0.2, -0.2,\n",
       "        -0.2, -0.2, -0.2, -0.2, -0.2]),\n",
       " array([-0.2,  0.3, -0.2, -0.2, -0.2, -0.2, -0.2,  0.3, -0.2, -0.2, -0.2,\n",
       "         0.3,  0.3, -0.2, -0.2, -0.2]),\n",
       " array([-0.2, -0.2, -0.2,  0.3, -0.2, -0.2, -0.2,  0.3,  0.3, -0.2, -0.2,\n",
       "        -0.2, -0.2, -0.2,  0.3, -0.2]),\n",
       " array([ 0.3, -0.2, -0.2, -0.2, -0.2, -0.2,  0.3, -0.2,  0.3, -0.2, -0.2,\n",
       "        -0.2,  0.3, -0.2, -0.2, -0.2]),\n",
       " array([-0.2, -0.2, -0.2,  0.3, -0.2, -0.2, -0.2, -0.2, -0.2,  0.3, -0.2,\n",
       "         0.3, -0.2,  0.3, -0.2, -0.2]),\n",
       " array([-0.2, -0.2,  0.3, -0.2, -0.2, -0.2, -0.2, -0.2,  0.3, -0.2,  0.3,\n",
       "        -0.2,  0.3, -0.2, -0.2, -0.2]),\n",
       " array([-0.2,  0.3, -0.2, -0.2, -0.2, -0.2, -0.2,  0.3, -0.2, -0.2, -0.2,\n",
       "         0.3,  0.3, -0.2, -0.2, -0.2]),\n",
       " array([-0.2,  0.3, -0.2,  0.3, -0.2,  0.3, -0.2, -0.2, -0.2,  0.3, -0.2,\n",
       "        -0.2, -0.2, -0.2, -0.2, -0.2]),\n",
       " array([-0.2, -0.2, -0.2, -0.2, -0.2, -0.2, -0.2, -0.2, -0.2,  0.3,  0.3,\n",
       "        -0.2, -0.2,  0.3,  0.3, -0.2]),\n",
       " array([-0.2, -0.2,  0.3, -0.2, -0.2, -0.2, -0.2, -0.2, -0.2,  0.3, -0.2,\n",
       "         0.3,  0.3, -0.2, -0.2, -0.2]),\n",
       " array([ 0.3, -0.2, -0.2, -0.2, -0.2, -0.2, -0.2, -0.2,  0.3,  0.3,  0.3,\n",
       "        -0.2, -0.2, -0.2, -0.2, -0.2]),\n",
       " array([-0.2, -0.2, -0.2, -0.2, -0.2, -0.2,  0.3,  0.3, -0.2, -0.2, -0.2,\n",
       "        -0.2,  0.3, -0.2,  0.3, -0.2]),\n",
       " array([-0.2, -0.2,  0.3, -0.2, -0.2, -0.2, -0.2, -0.2, -0.2,  0.3, -0.2,\n",
       "        -0.2, -0.2,  0.3,  0.3, -0.2]),\n",
       " array([-0.2, -0.2, -0.2,  0.3, -0.2, -0.2,  0.3,  0.3, -0.2, -0.2, -0.2,\n",
       "        -0.2, -0.2, -0.2, -0.2,  0.3]),\n",
       " array([-0.2,  0.3, -0.2, -0.2, -0.2, -0.2, -0.2,  0.3, -0.2, -0.2, -0.2,\n",
       "        -0.2, -0.2,  0.3, -0.2,  0.3]),\n",
       " array([ 0.3, -0.2, -0.2, -0.2, -0.2, -0.2, -0.2, -0.2, -0.2, -0.2,  0.3,\n",
       "        -0.2,  0.3,  0.3, -0.2, -0.2]),\n",
       " array([-0.2, -0.2,  0.3,  0.3,  0.3, -0.2, -0.2, -0.2, -0.2, -0.2,  0.3,\n",
       "        -0.2, -0.2, -0.2, -0.2, -0.2]),\n",
       " array([-0.2, -0.2,  0.3, -0.2, -0.2, -0.2,  0.3, -0.2,  0.3, -0.2, -0.2,\n",
       "        -0.2,  0.3, -0.2, -0.2, -0.2]),\n",
       " array([-0.2, -0.2, -0.2, -0.2, -0.2, -0.2, -0.2, -0.2,  0.3, -0.2, -0.2,\n",
       "         0.3, -0.2,  0.3, -0.2,  0.3]),\n",
       " array([ 0.3, -0.2, -0.2,  0.3, -0.2, -0.2,  0.3, -0.2,  0.3, -0.2, -0.2,\n",
       "        -0.2, -0.2, -0.2, -0.2, -0.2]),\n",
       " array([ 0.3, -0.2, -0.2, -0.2,  0.3,  0.3, -0.2, -0.2, -0.2, -0.2, -0.2,\n",
       "        -0.2, -0.2, -0.2, -0.2,  0.3]),\n",
       " array([-0.2,  0.3, -0.2, -0.2,  0.3, -0.2,  0.3, -0.2, -0.2, -0.2,  0.3,\n",
       "        -0.2, -0.2, -0.2, -0.2, -0.2]),\n",
       " array([-0.2, -0.2, -0.2, -0.2, -0.2, -0.2,  0.3,  0.3, -0.2,  0.3, -0.2,\n",
       "        -0.2,  0.3, -0.2, -0.2, -0.2]),\n",
       " array([ 0.3, -0.2, -0.2,  0.3, -0.2, -0.2, -0.2, -0.2, -0.2, -0.2,  0.3,\n",
       "        -0.2, -0.2, -0.2, -0.2,  0.3]),\n",
       " array([-0.2, -0.2, -0.2,  0.3,  0.3, -0.2, -0.2, -0.2,  0.3,  0.3, -0.2,\n",
       "        -0.2, -0.2, -0.2, -0.2, -0.2]),\n",
       " array([-0.2, -0.2, -0.2, -0.2, -0.2, -0.2,  0.3,  0.3, -0.2,  0.3, -0.2,\n",
       "        -0.2, -0.2, -0.2,  0.3, -0.2]),\n",
       " array([-0.2, -0.2,  0.3,  0.3, -0.2, -0.2, -0.2,  0.3, -0.2, -0.2, -0.2,\n",
       "        -0.2,  0.3, -0.2, -0.2, -0.2]),\n",
       " array([ 0.3, -0.2, -0.2, -0.2, -0.2,  0.3,  0.3, -0.2, -0.2, -0.2, -0.2,\n",
       "        -0.2, -0.2,  0.3, -0.2, -0.2]),\n",
       " array([ 0.3,  0.3, -0.2,  0.3, -0.2, -0.2, -0.2, -0.2, -0.2,  0.3, -0.2,\n",
       "        -0.2, -0.2, -0.2, -0.2, -0.2]),\n",
       " array([-0.2, -0.2, -0.2, -0.2, -0.2, -0.2,  0.3,  0.3, -0.2, -0.2, -0.2,\n",
       "        -0.2, -0.2, -0.2,  0.3,  0.3]),\n",
       " array([-0.2, -0.2,  0.3, -0.2, -0.2, -0.2, -0.2, -0.2, -0.2, -0.2,  0.3,\n",
       "        -0.2,  0.3, -0.2, -0.2,  0.3]),\n",
       " array([-0.2, -0.2, -0.2,  0.3, -0.2, -0.2, -0.2, -0.2, -0.2,  0.3,  0.3,\n",
       "        -0.2, -0.2,  0.3, -0.2, -0.2]),\n",
       " array([-0.2, -0.2, -0.2, -0.2,  0.3,  0.3,  0.3, -0.2, -0.2, -0.2, -0.2,\n",
       "         0.3, -0.2, -0.2, -0.2, -0.2]),\n",
       " array([-0.2, -0.2, -0.2, -0.2,  0.3, -0.2,  0.3, -0.2, -0.2, -0.2, -0.2,\n",
       "        -0.2, -0.2, -0.2,  0.3,  0.3]),\n",
       " array([-0.2, -0.2, -0.2, -0.2,  0.3,  0.3,  0.3, -0.2, -0.2, -0.2, -0.2,\n",
       "        -0.2,  0.3, -0.2, -0.2, -0.2]),\n",
       " array([-0.2, -0.2, -0.2, -0.2, -0.2,  0.3,  0.3, -0.2, -0.2, -0.2, -0.2,\n",
       "         0.3,  0.3, -0.2, -0.2, -0.2]),\n",
       " array([-0.2, -0.2,  0.3,  0.3, -0.2, -0.2, -0.2, -0.2, -0.2, -0.2,  0.3,\n",
       "        -0.2, -0.2, -0.2,  0.3, -0.2]),\n",
       " array([ 0.3,  0.3, -0.2, -0.2, -0.2, -0.2, -0.2, -0.2, -0.2, -0.2, -0.2,\n",
       "         0.3, -0.2, -0.2, -0.2,  0.3]),\n",
       " array([-0.2, -0.2, -0.2, -0.2,  0.3, -0.2, -0.2, -0.2,  0.3,  0.3, -0.2,\n",
       "        -0.2, -0.2, -0.2, -0.2,  0.3]),\n",
       " array([-0.2,  0.3,  0.3,  0.3, -0.2, -0.2, -0.2, -0.2, -0.2, -0.2,  0.3,\n",
       "        -0.2, -0.2, -0.2, -0.2, -0.2]),\n",
       " array([-0.2, -0.2, -0.2,  0.3, -0.2, -0.2, -0.2, -0.2, -0.2,  0.3, -0.2,\n",
       "         0.3, -0.2, -0.2,  0.3, -0.2]),\n",
       " array([-0.2, -0.2, -0.2, -0.2, -0.2,  0.3, -0.2,  0.3, -0.2,  0.3, -0.2,\n",
       "        -0.2, -0.2, -0.2,  0.3, -0.2]),\n",
       " array([ 0.3, -0.2, -0.2, -0.2, -0.2, -0.2, -0.2, -0.2, -0.2,  0.3, -0.2,\n",
       "         0.3, -0.2, -0.2,  0.3, -0.2]),\n",
       " array([-0.2, -0.2, -0.2,  0.3, -0.2, -0.2, -0.2,  0.3,  0.3, -0.2,  0.3,\n",
       "        -0.2, -0.2, -0.2, -0.2, -0.2]),\n",
       " array([-0.2, -0.2, -0.2, -0.2, -0.2, -0.2,  0.3,  0.3, -0.2,  0.3, -0.2,\n",
       "        -0.2, -0.2, -0.2, -0.2,  0.3]),\n",
       " array([-0.2, -0.2, -0.2,  0.3, -0.2, -0.2, -0.2,  0.3, -0.2, -0.2,  0.3,\n",
       "        -0.2, -0.2, -0.2,  0.3, -0.2]),\n",
       " array([-0.2,  0.3, -0.2,  0.3, -0.2, -0.2, -0.2, -0.2, -0.2, -0.2,  0.3,\n",
       "        -0.2,  0.3, -0.2, -0.2, -0.2]),\n",
       " array([-0.2, -0.2, -0.2,  0.3, -0.2, -0.2, -0.2, -0.2, -0.2, -0.2, -0.2,\n",
       "         0.3,  0.3, -0.2, -0.2,  0.3]),\n",
       " array([-0.2, -0.2, -0.2,  0.3, -0.2,  0.3, -0.2, -0.2,  0.3, -0.2,  0.3,\n",
       "        -0.2, -0.2, -0.2, -0.2, -0.2]),\n",
       " array([-0.2, -0.2, -0.2,  0.3, -0.2, -0.2,  0.3,  0.3, -0.2, -0.2, -0.2,\n",
       "         0.3, -0.2, -0.2, -0.2, -0.2]),\n",
       " array([-0.2,  0.3,  0.3, -0.2, -0.2, -0.2, -0.2, -0.2,  0.3, -0.2,  0.3,\n",
       "        -0.2, -0.2, -0.2, -0.2, -0.2]),\n",
       " array([-0.2,  0.3, -0.2,  0.3, -0.2, -0.2,  0.3, -0.2, -0.2,  0.3, -0.2,\n",
       "        -0.2, -0.2, -0.2, -0.2, -0.2]),\n",
       " array([-0.2,  0.3, -0.2, -0.2, -0.2, -0.2, -0.2,  0.3, -0.2, -0.2, -0.2,\n",
       "         0.3, -0.2,  0.3, -0.2, -0.2]),\n",
       " array([-0.2, -0.2, -0.2, -0.2,  0.3,  0.3,  0.3, -0.2, -0.2,  0.3, -0.2,\n",
       "        -0.2, -0.2, -0.2, -0.2, -0.2]),\n",
       " array([-0.2, -0.2, -0.2,  0.3,  0.3, -0.2, -0.2,  0.3, -0.2, -0.2, -0.2,\n",
       "        -0.2, -0.2, -0.2, -0.2,  0.3]),\n",
       " array([-0.2, -0.2, -0.2, -0.2,  0.3, -0.2, -0.2, -0.2,  0.3,  0.3, -0.2,\n",
       "         0.3, -0.2, -0.2, -0.2, -0.2])]"
      ]
     },
     "execution_count": 13,
     "metadata": {},
     "output_type": "execute_result"
    }
   ],
   "source": [
    "coef_list[1:]"
   ]
  },
  {
   "cell_type": "code",
   "execution_count": null,
   "metadata": {},
   "outputs": [],
   "source": []
  }
 ],
 "metadata": {
  "kernelspec": {
   "display_name": "base",
   "language": "python",
   "name": "python3"
  },
  "language_info": {
   "codemirror_mode": {
    "name": "ipython",
    "version": 3
   },
   "file_extension": ".py",
   "mimetype": "text/x-python",
   "name": "python",
   "nbconvert_exporter": "python",
   "pygments_lexer": "ipython3",
   "version": "3.11.5"
  }
 },
 "nbformat": 4,
 "nbformat_minor": 2
}
