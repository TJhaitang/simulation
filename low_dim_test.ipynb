{
 "cells": [
  {
   "cell_type": "code",
   "execution_count": 1,
   "metadata": {},
   "outputs": [],
   "source": [
    "from tqdm import tqdm\n",
    "from matplotlib import pyplot as plt\n",
    "import time\n",
    "from abc import abstractmethod\n",
    "import numpy as np\n",
    "from sklearn.linear_model import Lasso\n",
    "from evaluator.evaluator import evaluator\n",
    "from methods.our_method import Our_method"
   ]
  },
  {
   "cell_type": "code",
   "execution_count": 2,
   "metadata": {},
   "outputs": [
    {
     "name": "stderr",
     "output_type": "stream",
     "text": [
      "u:\\文档\\code\\讨论班\\11-14\\simulation\\methods\\our_method.py:78: RuntimeWarning: overflow encountered in multiply\n",
      "  grad=2*np.dot(X.T,np.dot(X,delta)-y)+lamb*delta/np.linalg.norm(delta)\n",
      "u:\\文档\\code\\讨论班\\11-14\\simulation\\methods\\our_method.py:78: RuntimeWarning: invalid value encountered in divide\n",
      "  grad=2*np.dot(X.T,np.dot(X,delta)-y)+lamb*delta/np.linalg.norm(delta)\n"
     ]
    }
   ],
   "source": [
    "n_features=16\n",
    "n_samples=100\n",
    "n_packs=21\n",
    "s=16\n",
    "L=6\n",
    "h=4\n",
    "eval=evaluator(n_features, n_packs, n_samples, s, L)\n",
    "model=Our_method(n_features, s, L)\n",
    "_,model_sse,model_time=eval.t11_eval(model,h)"
   ]
  },
  {
   "cell_type": "code",
   "execution_count": 3,
   "metadata": {},
   "outputs": [
    {
     "data": {
      "text/plain": [
       "nan"
      ]
     },
     "execution_count": 3,
     "metadata": {},
     "output_type": "execute_result"
    }
   ],
   "source": [
    "model_sse"
   ]
  }
 ],
 "metadata": {
  "kernelspec": {
   "display_name": "base",
   "language": "python",
   "name": "python3"
  },
  "language_info": {
   "codemirror_mode": {
    "name": "ipython",
    "version": 3
   },
   "file_extension": ".py",
   "mimetype": "text/x-python",
   "name": "python",
   "nbconvert_exporter": "python",
   "pygments_lexer": "ipython3",
   "version": "3.9.16"
  }
 },
 "nbformat": 4,
 "nbformat_minor": 2
}
