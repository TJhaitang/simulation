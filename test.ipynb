{
 "cells": [
  {
   "cell_type": "code",
   "execution_count": 6,
   "metadata": {},
   "outputs": [],
   "source": [
    "from estiminator import our_method\n",
    "from evaluator import *"
   ]
  },
  {
   "cell_type": "code",
   "execution_count": 10,
   "metadata": {},
   "outputs": [
    {
     "name": "stderr",
     "output_type": "stream",
     "text": [
      "100%|██████████| 10/10 [00:12<00:00,  1.28s/it]\n"
     ]
    }
   ],
   "source": [
    "# 先测试一下our_method\n",
    "\n",
    "\n",
    "n_features=500\n",
    "n_packs=21\n",
    "n_samples=100\n",
    "s=20\n",
    "\n",
    "alg = our_method(n_features)\n",
    "\n",
    "samples_packs=[]\n",
    "# 设定超参数：各模型回归系数、特征间的协方差矩阵、噪声的均值与方差\n",
    "# 长度为n_features, 其中前s个为非零回归系数，后n_features-s个为零\n",
    "coef_true = np.zeros(n_features)\n",
    "coef_true[:s] = 0.3\n",
    "#生成样本\n",
    "for i in range(n_packs):\n",
    "    cov = np.eye(n_features)\n",
    "    noise_mean = 0\n",
    "    noise_var = 0.1\n",
    "    X, y = coef_gen(coef_true, cov, noise_mean+0.01*(19-i), noise_var+0.005*(19-i), n_samples)\n",
    "    samples_packs.append(samples_pack(X, y))\n",
    "#模型拟合\n",
    "pre_params,delta,v= alg.fit(samples_packs,0,10)\n",
    "#计算coef_true与pre_params的SSE\n",
    "SSE = np.sum((coef_true - pre_params)**2)"
   ]
  },
  {
   "cell_type": "code",
   "execution_count": 11,
   "metadata": {},
   "outputs": [
    {
     "data": {
      "text/plain": [
       "array([0., 0., 0., 0., 0., 0., 0., 0., 0., 0., 1., 1., 1., 1., 1., 1., 1.,\n",
       "       1., 1., 1.])"
      ]
     },
     "execution_count": 11,
     "metadata": {},
     "output_type": "execute_result"
    }
   ],
   "source": [
    "v"
   ]
  },
  {
   "cell_type": "code",
   "execution_count": 9,
   "metadata": {},
   "outputs": [
    {
     "data": {
      "text/plain": [
       "array([[ 4.63010875e-03,  4.54836611e-04, -2.03388484e-03, ...,\n",
       "        -3.94452197e-03,  3.74992568e-03,  2.83315572e-04],\n",
       "       [-3.88115504e-03,  3.34793864e-03,  1.82774613e-06, ...,\n",
       "         5.12575417e-04, -1.29650631e-04, -3.70066984e-03],\n",
       "       [-4.91598209e-03,  3.74829170e-03,  1.62550854e-05, ...,\n",
       "         1.94659923e-04,  5.69843813e-04,  7.90286302e-04],\n",
       "       ...,\n",
       "       [-3.43741472e-03,  3.35051720e-04, -1.39590292e-03, ...,\n",
       "        -1.67898059e-03, -5.16139028e-04, -2.45080438e-04],\n",
       "       [-1.97757366e-03, -8.22003665e-03, -4.93337050e-03, ...,\n",
       "         6.32106136e-03,  1.23942167e-03,  4.91856322e-03],\n",
       "       [ 1.02054786e-03,  9.83602683e-03, -2.61707230e-04, ...,\n",
       "        -1.52125886e-03,  6.73805002e-04, -4.68377538e-04]])"
      ]
     },
     "execution_count": 9,
     "metadata": {},
     "output_type": "execute_result"
    }
   ],
   "source": [
    "delta"
   ]
  }
 ],
 "metadata": {
  "kernelspec": {
   "display_name": "base",
   "language": "python",
   "name": "python3"
  },
  "language_info": {
   "codemirror_mode": {
    "name": "ipython",
    "version": 3
   },
   "file_extension": ".py",
   "mimetype": "text/x-python",
   "name": "python",
   "nbconvert_exporter": "python",
   "pygments_lexer": "ipython3",
   "version": "3.9.16"
  },
  "orig_nbformat": 4
 },
 "nbformat": 4,
 "nbformat_minor": 2
}
